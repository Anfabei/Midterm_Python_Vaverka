{
 "cells": [
  {
   "cell_type": "code",
   "execution_count": null,
   "id": "f386d98a",
   "metadata": {},
   "outputs": [],
   "source": [
    "print('Data Processing in Python - Midterm 05/04/2022')"
   ]
  },
  {
   "cell_type": "code",
   "execution_count": null,
   "id": "26634286",
   "metadata": {},
   "outputs": [],
   "source": [
    "import requests\n",
    "import json\n",
    "import pandas as pd\n",
    "from bs4 import BeautifulSoup\n",
    "import time\n",
    "import numpy as np"
   ]
  },
  {
   "cell_type": "code",
   "execution_count": null,
   "id": "7611e46a",
   "metadata": {},
   "outputs": [],
   "source": [
    "#Problem 1\n",
    "#Firstly I need to log in\n",
    "links = 'https://ies-midterm.soulution.rocks/login'\n",
    "my_cuni = {\n",
    "    \"cuni\":\"12753723\"\n",
    "}\n",
    "my_cuni\n",
    "log_in = requests.post(f\"{links}\",json = my_cuni)\n",
    "log_in.text"
   ]
  },
  {
   "cell_type": "code",
   "execution_count": null,
   "id": "37a7cc25",
   "metadata": {},
   "outputs": [],
   "source": [
    "#Now I store the codes I recived\n",
    "personal_code = '8771401d'\n",
    "personal_code\n",
    "list_of_ids = [\"2d1aef30ed\", \"81395feb08\", \"f45ec2e9fc\", \"aab8ba99c2\", \"11f651d1ee\", \"0a42bff0a1\", \"503981c9e8\", \"3bd4cabfaa\", \"8f8c9919a6\"]\n",
    "list_of_ids\n",
    "print('My personal_code is :',personal_code)\n",
    "print('My ids are :',list_of_ids)\n"
   ]
  },
  {
   "cell_type": "code",
   "execution_count": null,
   "id": "20c91d5f",
   "metadata": {},
   "outputs": [],
   "source": [
    "request_1 = requests.get('https://ies-midterm.soulution.rocks/data/2d1aef30ed')\n",
    "request_1.text\n",
    "#Here I can get data by sending requests to all of the ids but as there is probabilty of fail I need to fix it.\n",
    "# \"Error [503] - Sorry, I just slipped and fell. Thank God, I am made of silicon. You need to work this out.\" can be displayed\n",
    "\n",
    "    "
   ]
  },
  {
   "cell_type": "code",
   "execution_count": null,
   "id": "2049fb1e",
   "metadata": {},
   "outputs": [],
   "source": [
    "# I will try to fix the probelm with a while loop\n",
    "responses = []\n",
    "statuscodes = []\n",
    "while np.sum(statuscodes) != 1800:\n",
    "    responses = []\n",
    "    statuscodes = []\n",
    "    for v in list_of_ids:\n",
    "        responses.append(requests.get(f'https://ies-midterm.soulution.rocks/data/{v}'))\n",
    "    for s in responses:\n",
    "        statuscodes.append(s.status_code)\n",
    "    print(np.sum(statuscodes) != 1800)\n",
    "print('1')"
   ]
  },
  {
   "cell_type": "code",
   "execution_count": null,
   "id": "47b04392",
   "metadata": {},
   "outputs": [],
   "source": []
  },
  {
   "cell_type": "code",
   "execution_count": null,
   "id": "0df54a1e",
   "metadata": {},
   "outputs": [],
   "source": []
  },
  {
   "cell_type": "code",
   "execution_count": null,
   "id": "d3bd43fb",
   "metadata": {},
   "outputs": [],
   "source": []
  }
 ],
 "metadata": {
  "kernelspec": {
   "display_name": "Python 3 (ipykernel)",
   "language": "python",
   "name": "python3"
  },
  "language_info": {
   "codemirror_mode": {
    "name": "ipython",
    "version": 3
   },
   "file_extension": ".py",
   "mimetype": "text/x-python",
   "name": "python",
   "nbconvert_exporter": "python",
   "pygments_lexer": "ipython3",
   "version": "3.9.7"
  }
 },
 "nbformat": 4,
 "nbformat_minor": 5
}
