{
 "cells": [
  {
   "cell_type": "code",
   "execution_count": 1,
   "id": "5bb90d0b",
   "metadata": {},
   "outputs": [
    {
     "name": "stdout",
     "output_type": "stream",
     "text": [
      "Data Processing in Python - Midterm 05/04/2022\n"
     ]
    }
   ],
   "source": [
    "print('Data Processing in Python - Midterm 05/04/2022')"
   ]
  },
  {
   "cell_type": "code",
   "execution_count": 2,
   "id": "f1e7726a",
   "metadata": {},
   "outputs": [],
   "source": [
    "import requests\n",
    "import json\n",
    "import pandas as pd\n",
    "from bs4 import BeautifulSoup\n",
    "import time\n",
    "import numpy as np"
   ]
  },
  {
   "cell_type": "code",
   "execution_count": 3,
   "id": "e761abb8",
   "metadata": {},
   "outputs": [
    {
     "data": {
      "text/plain": [
       "'{\"data\": {\"personal_code\": \"8771401d\", \"dataset_ids\": [\"2d1aef30ed\", \"81395feb08\", \"f45ec2e9fc\", \"aab8ba99c2\", \"11f651d1ee\", \"0a42bff0a1\", \"503981c9e8\", \"3bd4cabfaa\", \"8f8c9919a6\"]}, \"message\": \"Hello, Vaverka Vojt\\\\u011bch! Good luck with the midterm. GET your data set from /data/file_id endpoint; use the codes you received in the data response as the file_id parameter! Print the personal code in your notebook.\"}'"
      ]
     },
     "execution_count": 3,
     "metadata": {},
     "output_type": "execute_result"
    }
   ],
   "source": [
    "#Problem 1\n",
    "#Firstly I need to log in\n",
    "links = 'https://ies-midterm.soulution.rocks/login'\n",
    "my_cuni = {\n",
    "    \"cuni\":\"12753723\"\n",
    "}\n",
    "my_cuni\n",
    "log_in = requests.post(f\"{links}\",json = my_cuni)\n",
    "log_in.text"
   ]
  },
  {
   "cell_type": "code",
   "execution_count": 4,
   "id": "22970933",
   "metadata": {},
   "outputs": [
    {
     "name": "stdout",
     "output_type": "stream",
     "text": [
      "My personal_code is : 8771401d\n",
      "My ids are : ['2d1aef30ed', '81395feb08', 'f45ec2e9fc', 'aab8ba99c2', '11f651d1ee', '0a42bff0a1', '503981c9e8', '3bd4cabfaa', '8f8c9919a6']\n"
     ]
    }
   ],
   "source": [
    "#Now I store the codes I recived\n",
    "personal_code = '8771401d'\n",
    "personal_code\n",
    "list_of_ids = [\"2d1aef30ed\", \"81395feb08\", \"f45ec2e9fc\", \"aab8ba99c2\", \"11f651d1ee\", \"0a42bff0a1\", \"503981c9e8\", \"3bd4cabfaa\", \"8f8c9919a6\"]\n",
    "list_of_ids\n",
    "print('My personal_code is :',personal_code)\n",
    "print('My ids are :',list_of_ids)\n"
   ]
  },
  {
   "cell_type": "code",
   "execution_count": 5,
   "id": "6559d035",
   "metadata": {},
   "outputs": [
    {
     "data": {
      "text/plain": [
       "'{\"data\": {}, \"message\": \"Error [503] - Sorry, I just slipped and fell. Thank God, I am made of silicon. You need to work this out.\"}'"
      ]
     },
     "execution_count": 5,
     "metadata": {},
     "output_type": "execute_result"
    }
   ],
   "source": [
    "request_1 = requests.get('https://ies-midterm.soulution.rocks/data/2d1aef30ed')\n",
    "request_1.text\n",
    "#Here I can get data by sending requests to all of the ids but as there is probabilty of fail I need to fix it.\n",
    "# \"Error [503] - Sorry, I just slipped and fell. Thank God, I am made of silicon. You need to work this out.\" can be displayed\n",
    "\n",
    "    "
   ]
  },
  {
   "cell_type": "code",
   "execution_count": 8,
   "id": "ab3b8a3c",
   "metadata": {},
   "outputs": [
    {
     "name": "stdout",
     "output_type": "stream",
     "text": [
      "True\n",
      "[200, 200, 503, 200, 200, 503, 200, 200, 200]\n",
      "True\n",
      "[200, 503, 200, 200, 200, 503, 200, 200, 503]\n",
      "True\n",
      "[200, 503, 200, 503, 200, 503, 200, 200, 200]\n",
      "True\n",
      "[200, 200, 503, 503, 503, 200, 503, 200, 200]\n",
      "True\n",
      "[503, 503, 503, 503, 503, 200, 503, 503, 503]\n",
      "True\n",
      "[503, 503, 200, 503, 503, 503, 200, 200, 503]\n",
      "True\n",
      "[503, 200, 200, 200, 503, 200, 503, 200, 503]\n",
      "True\n",
      "[200, 503, 200, 200, 503, 503, 503, 200, 503]\n",
      "True\n",
      "[200, 200, 200, 503, 200, 200, 200, 200, 200]\n",
      "True\n",
      "[503, 503, 200, 200, 503, 503, 503, 200, 200]\n",
      "True\n",
      "[200, 200, 503, 503, 200, 200, 503, 200, 200]\n",
      "True\n",
      "[200, 503, 503, 200, 503, 200, 200, 503, 200]\n",
      "True\n",
      "[200, 503, 200, 200, 503, 503, 200, 503, 503]\n",
      "True\n",
      "[200, 503, 200, 503, 503, 503, 503, 200, 200]\n",
      "True\n",
      "[503, 200, 200, 503, 503, 200, 200, 200, 200]\n",
      "True\n",
      "[200, 200, 200, 503, 200, 503, 503, 503, 503]\n",
      "True\n",
      "[503, 200, 503, 200, 503, 503, 503, 200, 200]\n",
      "True\n",
      "[503, 200, 200, 503, 200, 503, 200, 503, 200]\n",
      "True\n",
      "[200, 200, 503, 503, 200, 503, 503, 200, 200]\n",
      "True\n",
      "[200, 503, 200, 200, 200, 200, 200, 503, 200]\n",
      "True\n",
      "[200, 503, 503, 200, 200, 503, 200, 503, 200]\n",
      "True\n",
      "[503, 200, 200, 503, 503, 503, 503, 503, 200]\n",
      "True\n",
      "[200, 200, 200, 503, 200, 200, 503, 200, 200]\n",
      "True\n",
      "[200, 200, 200, 503, 200, 200, 503, 200, 503]\n",
      "True\n",
      "[200, 200, 503, 200, 503, 503, 200, 200, 200]\n",
      "True\n",
      "[503, 503, 200, 200, 200, 200, 200, 200, 200]\n",
      "True\n",
      "[503, 503, 503, 200, 200, 200, 200, 503, 503]\n",
      "True\n",
      "[200, 200, 200, 200, 200, 200, 503, 200, 503]\n",
      "True\n",
      "[200, 200, 200, 503, 503, 200, 200, 200, 200]\n",
      "True\n",
      "[200, 200, 200, 200, 200, 200, 503, 200, 503]\n",
      "True\n",
      "[503, 200, 200, 200, 200, 200, 200, 503, 200]\n",
      "True\n",
      "[200, 200, 200, 503, 200, 200, 503, 503, 200]\n",
      "True\n",
      "[200, 200, 200, 503, 503, 200, 200, 503, 200]\n",
      "True\n",
      "[200, 200, 200, 200, 503, 200, 503, 200, 200]\n",
      "True\n",
      "[503, 200, 503, 200, 200, 503, 200, 200, 503]\n",
      "True\n",
      "[200, 200, 200, 503, 200, 200, 200, 200, 200]\n",
      "True\n",
      "[503, 503, 503, 503, 200, 200, 200, 200, 503]\n",
      "True\n",
      "[503, 503, 200, 200, 200, 200, 503, 200, 200]\n",
      "True\n",
      "[503, 503, 200, 503, 503, 200, 200, 503, 200]\n",
      "True\n",
      "[200, 200, 503, 503, 200, 200, 503, 503, 200]\n",
      "True\n",
      "[503, 503, 200, 200, 200, 200, 503, 503, 503]\n",
      "True\n",
      "[503, 200, 503, 200, 503, 503, 503, 503, 200]\n",
      "True\n",
      "[503, 200, 200, 503, 503, 200, 200, 503, 200]\n",
      "True\n",
      "[200, 200, 503, 200, 200, 200, 503, 503, 200]\n",
      "True\n",
      "[503, 200, 503, 503, 200, 503, 200, 503, 200]\n",
      "True\n",
      "[503, 503, 200, 200, 200, 200, 200, 200, 200]\n",
      "True\n",
      "[503, 200, 200, 200, 200, 503, 200, 200, 503]\n",
      "True\n",
      "[200, 503, 503, 200, 200, 503, 200, 200, 200]\n",
      "True\n",
      "[503, 503, 200, 503, 200, 200, 200, 503, 200]\n",
      "True\n",
      "[200, 503, 200, 200, 503, 200, 200, 503, 200]\n",
      "True\n",
      "[200, 200, 200, 503, 200, 200, 200, 200, 200]\n",
      "True\n",
      "[503, 503, 503, 200, 200, 503, 200, 503, 200]\n",
      "True\n",
      "[200, 200, 200, 200, 200, 200, 503, 503, 200]\n",
      "True\n",
      "[503, 200, 200, 200, 503, 200, 503, 503, 503]\n",
      "True\n",
      "[200, 200, 503, 503, 200, 200, 200, 200, 503]\n",
      "True\n",
      "[503, 503, 200, 200, 200, 503, 503, 200, 503]\n",
      "True\n",
      "[200, 503, 200, 200, 200, 200, 503, 503, 503]\n",
      "True\n",
      "[200, 200, 503, 200, 200, 503, 200, 200, 503]\n",
      "True\n",
      "[200, 503, 503, 503, 200, 200, 200, 200, 503]\n",
      "True\n",
      "[503, 200, 503, 503, 200, 200, 503, 503, 200]\n",
      "True\n",
      "[503, 503, 200, 503, 503, 503, 200, 200, 503]\n",
      "True\n",
      "[200, 503, 503, 503, 503, 200, 503, 200, 200]\n",
      "True\n",
      "[200, 200, 503, 503, 200, 503, 200, 503, 503]\n",
      "True\n",
      "[503, 200, 200, 200, 200, 200, 200, 503, 200]\n",
      "True\n",
      "[503, 200, 503, 200, 503, 200, 200, 200, 200]\n",
      "True\n",
      "[200, 200, 503, 503, 503, 200, 503, 200, 503]\n",
      "True\n",
      "[200, 503, 200, 503, 200, 503, 503, 200, 200]\n",
      "True\n",
      "[503, 200, 503, 503, 200, 503, 503, 200, 200]\n",
      "True\n",
      "[200, 503, 503, 503, 503, 503, 200, 503, 200]\n",
      "True\n",
      "[200, 200, 503, 200, 503, 200, 200, 503, 200]\n",
      "True\n",
      "[200, 503, 503, 200, 200, 200, 200, 200, 503]\n",
      "False\n",
      "[200, 200, 200, 200, 200, 200, 200, 200, 200]\n"
     ]
    }
   ],
   "source": [
    "# I will try to fix the probelm with a while loop\n",
    "responses = []\n",
    "statuscodes = []\n",
    "while np.sum(statuscodes) != 1800: #9*200 = 1800 200 is the code I get if my .get works\n",
    "    responses = []\n",
    "    statuscodes = []\n",
    "    for v in list_of_ids:\n",
    "        responses.append(requests.get(f'https://ies-midterm.soulution.rocks/data/{v}'))\n",
    "    for s in responses:\n",
    "        statuscodes.append(s.status_code)\n",
    "    \n",
    "    print(np.sum(statuscodes) != 1800)\n",
    "    print(statuscodes)"
   ]
  },
  {
   "cell_type": "code",
   "execution_count": 14,
   "id": "bdd9f6f1",
   "metadata": {},
   "outputs": [
    {
     "name": "stdout",
     "output_type": "stream",
     "text": [
      "[<Response [200]>, <Response [200]>, <Response [200]>, <Response [200]>, <Response [200]>, <Response [200]>, <Response [200]>, <Response [200]>, <Response [200]>] [200, 200, 200, 200, 200, 200, 200, 200, 200]\n"
     ]
    }
   ],
   "source": [
    "#Now once none of my requests fails the loop stops and I have data for all IDS\n",
    "print(responses,statuscodes) #Just to chceck - yes I have only 200 codes"
   ]
  },
  {
   "cell_type": "code",
   "execution_count": 15,
   "id": "632fd9d5",
   "metadata": {},
   "outputs": [
    {
     "ename": "AttributeError",
     "evalue": "'function' object has no attribute 'text'",
     "output_type": "error",
     "traceback": [
      "\u001b[1;31m---------------------------------------------------------------------------\u001b[0m",
      "\u001b[1;31mAttributeError\u001b[0m                            Traceback (most recent call last)",
      "\u001b[1;32m~\\AppData\\Local\\Temp/ipykernel_14228/1593638277.py\u001b[0m in \u001b[0;36m<module>\u001b[1;34m\u001b[0m\n\u001b[1;32m----> 1\u001b[1;33m \u001b[0mrequests\u001b[0m\u001b[1;33m.\u001b[0m\u001b[0mget\u001b[0m\u001b[1;33m.\u001b[0m\u001b[0mtext\u001b[0m\u001b[1;33m\u001b[0m\u001b[1;33m\u001b[0m\u001b[0m\n\u001b[0m",
      "\u001b[1;31mAttributeError\u001b[0m: 'function' object has no attribute 'text'"
     ]
    }
   ],
   "source": [
    "#Sadly I am out of time but now I need to read the Json file to extract the data so I can continue to the 2nd problem."
   ]
  },
  {
   "cell_type": "code",
   "execution_count": null,
   "id": "6e0bc4f1",
   "metadata": {},
   "outputs": [],
   "source": []
  }
 ],
 "metadata": {
  "kernelspec": {
   "display_name": "Python 3 (ipykernel)",
   "language": "python",
   "name": "python3"
  },
  "language_info": {
   "codemirror_mode": {
    "name": "ipython",
    "version": 3
   },
   "file_extension": ".py",
   "mimetype": "text/x-python",
   "name": "python",
   "nbconvert_exporter": "python",
   "pygments_lexer": "ipython3",
   "version": "3.9.7"
  }
 },
 "nbformat": 4,
 "nbformat_minor": 5
}
